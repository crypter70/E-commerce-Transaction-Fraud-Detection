{
 "cells": [
  {
   "cell_type": "markdown",
   "id": "0df00060-bd93-4538-b94f-23f3261df2ed",
   "metadata": {},
   "source": [
    "# Data Pipeline"
   ]
  },
  {
   "cell_type": "markdown",
   "id": "9630ce97-89cc-458d-befb-0427a2a3bad1",
   "metadata": {},
   "source": [
    "## Load Libraries"
   ]
  },
  {
   "cell_type": "code",
   "execution_count": 1,
   "id": "6494511e-3a15-451e-a8d6-4dff9c0611f8",
   "metadata": {},
   "outputs": [
    {
     "name": "stdout",
     "output_type": "stream",
     "text": [
      "utils good\n"
     ]
    }
   ],
   "source": [
    "import pandas as pd\n",
    "import joblib\n",
    "import yaml\n",
    "\n",
    "from sklearn.model_selection import train_test_split\n",
    "\n",
    "import sys\n",
    "sys.path.append('../src')  \n",
    "import utils as util"
   ]
  },
  {
   "cell_type": "markdown",
   "id": "b31f5e29-21b1-4072-a12c-617c7c0d5cb3",
   "metadata": {},
   "source": [
    "## Load Configuration File"
   ]
  },
  {
   "cell_type": "code",
   "execution_count": 2,
   "id": "602edfea-1645-4e96-bb9a-10183bf356c5",
   "metadata": {},
   "outputs": [],
   "source": [
    "config = util.load_config()"
   ]
  },
  {
   "cell_type": "markdown",
   "id": "0c52589e-a965-4547-ae53-ee9df5b71a71",
   "metadata": {},
   "source": [
    "## Data Collection"
   ]
  },
  {
   "cell_type": "code",
   "execution_count": 3,
   "id": "30e5d3e8-8fac-455b-9bf6-6b3bf04e14b9",
   "metadata": {},
   "outputs": [],
   "source": [
    "def read_raw_data(config: dict, raw_dataset_dir) -> pd.DataFrame:\n",
    "    raw_dataset = pd.read_csv(raw_dataset_dir, encoding='utf-8')\n",
    "    \n",
    "    return raw_dataset"
   ]
  },
  {
   "cell_type": "code",
   "execution_count": 4,
   "id": "28f46b0d-ed3f-4b05-93f3-211ea9ec0dc0",
   "metadata": {},
   "outputs": [],
   "source": [
    "raw_dataset_dir = '../' + config['data_source']['directory'] + config['data_source']['file_name']  \n",
    "\n",
    "raw_dataset = read_raw_data(config, raw_dataset_dir)"
   ]
  },
  {
   "cell_type": "code",
   "execution_count": 5,
   "id": "b5543712-36b6-4ca0-93cc-041f460a2012",
   "metadata": {},
   "outputs": [
    {
     "data": {
      "text/html": [
       "<div>\n",
       "<style scoped>\n",
       "    .dataframe tbody tr th:only-of-type {\n",
       "        vertical-align: middle;\n",
       "    }\n",
       "\n",
       "    .dataframe tbody tr th {\n",
       "        vertical-align: top;\n",
       "    }\n",
       "\n",
       "    .dataframe thead th {\n",
       "        text-align: right;\n",
       "    }\n",
       "</style>\n",
       "<table border=\"1\" class=\"dataframe\">\n",
       "  <thead>\n",
       "    <tr style=\"text-align: right;\">\n",
       "      <th></th>\n",
       "      <th>user_id</th>\n",
       "      <th>signup_time</th>\n",
       "      <th>purchase_time</th>\n",
       "      <th>purchase_value</th>\n",
       "      <th>device_id</th>\n",
       "      <th>source</th>\n",
       "      <th>browser</th>\n",
       "      <th>sex</th>\n",
       "      <th>age</th>\n",
       "      <th>ip_address</th>\n",
       "      <th>class</th>\n",
       "    </tr>\n",
       "  </thead>\n",
       "  <tbody>\n",
       "    <tr>\n",
       "      <th>0</th>\n",
       "      <td>22058</td>\n",
       "      <td>2015-02-24 22:55:49</td>\n",
       "      <td>2015-04-18 02:47:11</td>\n",
       "      <td>34</td>\n",
       "      <td>QVPSPJUOCKZAR</td>\n",
       "      <td>SEO</td>\n",
       "      <td>Chrome</td>\n",
       "      <td>M</td>\n",
       "      <td>39</td>\n",
       "      <td>7.327584e+08</td>\n",
       "      <td>0</td>\n",
       "    </tr>\n",
       "    <tr>\n",
       "      <th>1</th>\n",
       "      <td>333320</td>\n",
       "      <td>2015-06-07 20:39:50</td>\n",
       "      <td>2015-06-08 01:38:54</td>\n",
       "      <td>16</td>\n",
       "      <td>EOGFQPIZPYXFZ</td>\n",
       "      <td>Ads</td>\n",
       "      <td>Chrome</td>\n",
       "      <td>F</td>\n",
       "      <td>53</td>\n",
       "      <td>3.503114e+08</td>\n",
       "      <td>0</td>\n",
       "    </tr>\n",
       "    <tr>\n",
       "      <th>2</th>\n",
       "      <td>1359</td>\n",
       "      <td>2015-01-01 18:52:44</td>\n",
       "      <td>2015-01-01 18:52:45</td>\n",
       "      <td>15</td>\n",
       "      <td>YSSKYOSJHPPLJ</td>\n",
       "      <td>SEO</td>\n",
       "      <td>Opera</td>\n",
       "      <td>M</td>\n",
       "      <td>53</td>\n",
       "      <td>2.621474e+09</td>\n",
       "      <td>1</td>\n",
       "    </tr>\n",
       "    <tr>\n",
       "      <th>3</th>\n",
       "      <td>150084</td>\n",
       "      <td>2015-04-28 21:13:25</td>\n",
       "      <td>2015-05-04 13:54:50</td>\n",
       "      <td>44</td>\n",
       "      <td>ATGTXKYKUDUQN</td>\n",
       "      <td>SEO</td>\n",
       "      <td>Safari</td>\n",
       "      <td>M</td>\n",
       "      <td>41</td>\n",
       "      <td>3.840542e+09</td>\n",
       "      <td>0</td>\n",
       "    </tr>\n",
       "    <tr>\n",
       "      <th>4</th>\n",
       "      <td>221365</td>\n",
       "      <td>2015-07-21 07:09:52</td>\n",
       "      <td>2015-09-09 18:40:53</td>\n",
       "      <td>39</td>\n",
       "      <td>NAUITBZFJKHWW</td>\n",
       "      <td>Ads</td>\n",
       "      <td>Safari</td>\n",
       "      <td>M</td>\n",
       "      <td>45</td>\n",
       "      <td>4.155831e+08</td>\n",
       "      <td>0</td>\n",
       "    </tr>\n",
       "  </tbody>\n",
       "</table>\n",
       "</div>"
      ],
      "text/plain": [
       "   user_id          signup_time        purchase_time  purchase_value  \\\n",
       "0    22058  2015-02-24 22:55:49  2015-04-18 02:47:11              34   \n",
       "1   333320  2015-06-07 20:39:50  2015-06-08 01:38:54              16   \n",
       "2     1359  2015-01-01 18:52:44  2015-01-01 18:52:45              15   \n",
       "3   150084  2015-04-28 21:13:25  2015-05-04 13:54:50              44   \n",
       "4   221365  2015-07-21 07:09:52  2015-09-09 18:40:53              39   \n",
       "\n",
       "       device_id source browser sex  age    ip_address  class  \n",
       "0  QVPSPJUOCKZAR    SEO  Chrome   M   39  7.327584e+08      0  \n",
       "1  EOGFQPIZPYXFZ    Ads  Chrome   F   53  3.503114e+08      0  \n",
       "2  YSSKYOSJHPPLJ    SEO   Opera   M   53  2.621474e+09      1  \n",
       "3  ATGTXKYKUDUQN    SEO  Safari   M   41  3.840542e+09      0  \n",
       "4  NAUITBZFJKHWW    Ads  Safari   M   45  4.155831e+08      0  "
      ]
     },
     "execution_count": 5,
     "metadata": {},
     "output_type": "execute_result"
    }
   ],
   "source": [
    "pd.set_option('display.max_columns', 500)\n",
    "raw_dataset.head()"
   ]
  },
  {
   "cell_type": "code",
   "execution_count": 6,
   "id": "8158be6e-2f58-4a7a-a407-3de9c2481150",
   "metadata": {},
   "outputs": [
    {
     "data": {
      "text/html": [
       "<div>\n",
       "<style scoped>\n",
       "    .dataframe tbody tr th:only-of-type {\n",
       "        vertical-align: middle;\n",
       "    }\n",
       "\n",
       "    .dataframe tbody tr th {\n",
       "        vertical-align: top;\n",
       "    }\n",
       "\n",
       "    .dataframe thead th {\n",
       "        text-align: right;\n",
       "    }\n",
       "</style>\n",
       "<table border=\"1\" class=\"dataframe\">\n",
       "  <thead>\n",
       "    <tr style=\"text-align: right;\">\n",
       "      <th></th>\n",
       "      <th>browser</th>\n",
       "      <th>source</th>\n",
       "      <th>age</th>\n",
       "      <th>sex</th>\n",
       "      <th>purchase_value</th>\n",
       "      <th>class</th>\n",
       "    </tr>\n",
       "  </thead>\n",
       "  <tbody>\n",
       "    <tr>\n",
       "      <th>0</th>\n",
       "      <td>Chrome</td>\n",
       "      <td>SEO</td>\n",
       "      <td>39</td>\n",
       "      <td>M</td>\n",
       "      <td>34</td>\n",
       "      <td>0</td>\n",
       "    </tr>\n",
       "    <tr>\n",
       "      <th>1</th>\n",
       "      <td>Chrome</td>\n",
       "      <td>Ads</td>\n",
       "      <td>53</td>\n",
       "      <td>F</td>\n",
       "      <td>16</td>\n",
       "      <td>0</td>\n",
       "    </tr>\n",
       "    <tr>\n",
       "      <th>2</th>\n",
       "      <td>Opera</td>\n",
       "      <td>SEO</td>\n",
       "      <td>53</td>\n",
       "      <td>M</td>\n",
       "      <td>15</td>\n",
       "      <td>1</td>\n",
       "    </tr>\n",
       "    <tr>\n",
       "      <th>3</th>\n",
       "      <td>Safari</td>\n",
       "      <td>SEO</td>\n",
       "      <td>41</td>\n",
       "      <td>M</td>\n",
       "      <td>44</td>\n",
       "      <td>0</td>\n",
       "    </tr>\n",
       "    <tr>\n",
       "      <th>4</th>\n",
       "      <td>Safari</td>\n",
       "      <td>Ads</td>\n",
       "      <td>45</td>\n",
       "      <td>M</td>\n",
       "      <td>39</td>\n",
       "      <td>0</td>\n",
       "    </tr>\n",
       "  </tbody>\n",
       "</table>\n",
       "</div>"
      ],
      "text/plain": [
       "  browser source  age sex  purchase_value  class\n",
       "0  Chrome    SEO   39   M              34      0\n",
       "1  Chrome    Ads   53   F              16      0\n",
       "2   Opera    SEO   53   M              15      1\n",
       "3  Safari    SEO   41   M              44      0\n",
       "4  Safari    Ads   45   M              39      0"
      ]
     },
     "execution_count": 6,
     "metadata": {},
     "output_type": "execute_result"
    }
   ],
   "source": [
    "raw_dataset = raw_dataset[config['data_source']['columns']]\n",
    "raw_dataset.head()"
   ]
  },
  {
   "cell_type": "code",
   "execution_count": 7,
   "id": "dc2fd636-10fb-4b14-8d56-59306cae62d5",
   "metadata": {},
   "outputs": [
    {
     "name": "stdout",
     "output_type": "stream",
     "text": [
      "<class 'pandas.core.frame.DataFrame'>\n",
      "RangeIndex: 151112 entries, 0 to 151111\n",
      "Data columns (total 6 columns):\n",
      " #   Column          Non-Null Count   Dtype \n",
      "---  ------          --------------   ----- \n",
      " 0   browser         151112 non-null  object\n",
      " 1   source          151112 non-null  object\n",
      " 2   age             151112 non-null  int64 \n",
      " 3   sex             151112 non-null  object\n",
      " 4   purchase_value  151112 non-null  int64 \n",
      " 5   class           151112 non-null  int64 \n",
      "dtypes: int64(3), object(3)\n",
      "memory usage: 6.9+ MB\n"
     ]
    }
   ],
   "source": [
    "raw_dataset.info()"
   ]
  },
  {
   "cell_type": "code",
   "execution_count": 8,
   "id": "03951a49-4c18-4ee7-9b17-940d1bd4a0dd",
   "metadata": {},
   "outputs": [],
   "source": [
    "raw_dataset_dir = '../' + config['train_test_data']['directory'] + config['train_test_data']['raw_dataset']\n",
    "\n",
    "util.pickle_dump(raw_dataset, raw_dataset_dir)"
   ]
  },
  {
   "cell_type": "code",
   "execution_count": 9,
   "id": "cee582a7-8fc9-4729-a345-da3095f50493",
   "metadata": {},
   "outputs": [],
   "source": [
    "# raw_dataset['purchase_value'].min()"
   ]
  },
  {
   "cell_type": "markdown",
   "id": "a1e6f8d5-97e8-4d7d-8a9c-51f43e0dacb4",
   "metadata": {},
   "source": [
    "## Data Definition"
   ]
  },
  {
   "cell_type": "markdown",
   "id": "092e5723-bdb5-4179-ba35-2a09ab725340",
   "metadata": {},
   "source": [
    "browser: [object] ['Chrome', 'IE', 'Safari', 'FireFox', 'Opera'] -> browser used for transactions\n",
    "\n",
    "source: [object] ['SEO', 'Ads', 'Direct'] -> transaction source\n",
    "\n",
    "age: [integer] [18-76] -> age of the user who made the transaction\n",
    "\n",
    "sex: [object] ['M', 'F'] -> user gender\n",
    "\n",
    "purchase_value: [integer] [9-154] -> total transactions\n",
    "\n",
    "class: [integer] [0-1] -> fraud status"
   ]
  },
  {
   "cell_type": "markdown",
   "id": "e5d52275-aba2-486a-89f9-e207f3ce15a2",
   "metadata": {},
   "source": [
    "## Data Validation"
   ]
  },
  {
   "cell_type": "markdown",
   "id": "ceba8ad3-ff6b-41cc-b725-1756f22d2699",
   "metadata": {},
   "source": [
    "### Data Type"
   ]
  },
  {
   "cell_type": "code",
   "execution_count": 10,
   "id": "2817f3bb-046c-40df-9a3b-b420f4c0e400",
   "metadata": {},
   "outputs": [
    {
     "data": {
      "text/plain": [
       "browser           object\n",
       "source            object\n",
       "age                int64\n",
       "sex               object\n",
       "purchase_value     int64\n",
       "class              int64\n",
       "dtype: object"
      ]
     },
     "execution_count": 10,
     "metadata": {},
     "output_type": "execute_result"
    }
   ],
   "source": [
    "raw_dataset.dtypes"
   ]
  },
  {
   "cell_type": "markdown",
   "id": "0549fbf1-2594-433c-a9e0-0a856e4334a1",
   "metadata": {},
   "source": [
    "### Data Range"
   ]
  },
  {
   "cell_type": "code",
   "execution_count": 11,
   "id": "a0791ead-a59a-40c1-8f3e-b4d8cfae9fdc",
   "metadata": {},
   "outputs": [
    {
     "data": {
      "text/html": [
       "<div>\n",
       "<style scoped>\n",
       "    .dataframe tbody tr th:only-of-type {\n",
       "        vertical-align: middle;\n",
       "    }\n",
       "\n",
       "    .dataframe tbody tr th {\n",
       "        vertical-align: top;\n",
       "    }\n",
       "\n",
       "    .dataframe thead th {\n",
       "        text-align: right;\n",
       "    }\n",
       "</style>\n",
       "<table border=\"1\" class=\"dataframe\">\n",
       "  <thead>\n",
       "    <tr style=\"text-align: right;\">\n",
       "      <th></th>\n",
       "      <th>age</th>\n",
       "      <th>purchase_value</th>\n",
       "      <th>class</th>\n",
       "    </tr>\n",
       "  </thead>\n",
       "  <tbody>\n",
       "    <tr>\n",
       "      <th>count</th>\n",
       "      <td>151112.000000</td>\n",
       "      <td>151112.000000</td>\n",
       "      <td>151112.000000</td>\n",
       "    </tr>\n",
       "    <tr>\n",
       "      <th>mean</th>\n",
       "      <td>33.140704</td>\n",
       "      <td>36.935372</td>\n",
       "      <td>0.093646</td>\n",
       "    </tr>\n",
       "    <tr>\n",
       "      <th>std</th>\n",
       "      <td>8.617733</td>\n",
       "      <td>18.322762</td>\n",
       "      <td>0.291336</td>\n",
       "    </tr>\n",
       "    <tr>\n",
       "      <th>min</th>\n",
       "      <td>18.000000</td>\n",
       "      <td>9.000000</td>\n",
       "      <td>0.000000</td>\n",
       "    </tr>\n",
       "    <tr>\n",
       "      <th>25%</th>\n",
       "      <td>27.000000</td>\n",
       "      <td>22.000000</td>\n",
       "      <td>0.000000</td>\n",
       "    </tr>\n",
       "    <tr>\n",
       "      <th>50%</th>\n",
       "      <td>33.000000</td>\n",
       "      <td>35.000000</td>\n",
       "      <td>0.000000</td>\n",
       "    </tr>\n",
       "    <tr>\n",
       "      <th>75%</th>\n",
       "      <td>39.000000</td>\n",
       "      <td>49.000000</td>\n",
       "      <td>0.000000</td>\n",
       "    </tr>\n",
       "    <tr>\n",
       "      <th>max</th>\n",
       "      <td>76.000000</td>\n",
       "      <td>154.000000</td>\n",
       "      <td>1.000000</td>\n",
       "    </tr>\n",
       "  </tbody>\n",
       "</table>\n",
       "</div>"
      ],
      "text/plain": [
       "                 age  purchase_value          class\n",
       "count  151112.000000   151112.000000  151112.000000\n",
       "mean       33.140704       36.935372       0.093646\n",
       "std         8.617733       18.322762       0.291336\n",
       "min        18.000000        9.000000       0.000000\n",
       "25%        27.000000       22.000000       0.000000\n",
       "50%        33.000000       35.000000       0.000000\n",
       "75%        39.000000       49.000000       0.000000\n",
       "max        76.000000      154.000000       1.000000"
      ]
     },
     "execution_count": 11,
     "metadata": {},
     "output_type": "execute_result"
    }
   ],
   "source": [
    "raw_dataset.describe()"
   ]
  },
  {
   "cell_type": "markdown",
   "id": "fb87a12f-bf19-4c16-ac0e-8bc0c8536348",
   "metadata": {},
   "source": [
    "### Data Dimension"
   ]
  },
  {
   "cell_type": "code",
   "execution_count": 12,
   "id": "0150f713-aac4-4b1c-971e-caff32fcda45",
   "metadata": {},
   "outputs": [
    {
     "data": {
      "text/plain": [
       "(151112, 6)"
      ]
     },
     "execution_count": 12,
     "metadata": {},
     "output_type": "execute_result"
    }
   ],
   "source": [
    "raw_dataset.shape"
   ]
  },
  {
   "cell_type": "markdown",
   "id": "c1e2ebd1-9a80-4c57-a398-28424814707b",
   "metadata": {},
   "source": [
    "## Data Defence"
   ]
  },
  {
   "cell_type": "code",
   "execution_count": 13,
   "id": "9ff74cf5-61ef-4043-8c19-a1f205be96ce",
   "metadata": {},
   "outputs": [],
   "source": [
    "def check_data(input_data, config):\n",
    "\n",
    "    # browser\n",
    "    assert input_data['browser'][0] in config['data_defense']['browser']['value'] or\\\n",
    "        input_data['browser'][0] != '',\\\n",
    "        f\"Browser must be in list {config['data_defense']['browser']['value']}, and cannot be empty.\"\n",
    "    \n",
    "    # source\n",
    "    assert input_data['source'][0] in config['data_defense']['source']['value'] or\\\n",
    "        input_data['source'][0] != '',\\\n",
    "        f\"Source must be in list {config['data_defense']['source']['value']}, and cannot be empty.\"\n",
    "    \n",
    "    # age\n",
    "    assert input_data.age.between(config['data_defense']['age'][0], config['data_defense']['age'][1]).sum() == len(input_data),\\\n",
    "        \"an error occurs in Age range.\"\n",
    "    \n",
    "    # sex\n",
    "    assert input_data['sex'][0] in config['data_defense']['sex']['value'] or\\\n",
    "        input_data['sex'][0] != '',\\\n",
    "        f\"Sex must be in list {config['data_defense']['sex']['value']}, and cannot be empty.\"\n",
    "    \n",
    "    # purchase_value\n",
    "    assert input_data.purchase_value.between(config['data_defense']['purchase_value'][0], config['data_defense']['purchase_value'][1]).sum() == len(input_data),\\\n",
    "        \"an error occurs in Purchase Value range.\""
   ]
  },
  {
   "cell_type": "code",
   "execution_count": 14,
   "id": "1f05043c-5503-425f-86f8-c726978864f9",
   "metadata": {},
   "outputs": [],
   "source": [
    "check_data(raw_dataset, config)"
   ]
  },
  {
   "cell_type": "markdown",
   "id": "a2551ecc-b016-4fa2-b34c-fb4750ce7207",
   "metadata": {},
   "source": [
    "## Data Splitting"
   ]
  },
  {
   "cell_type": "code",
   "execution_count": 15,
   "id": "7a4f06b3-d0a3-4805-9ad4-74203c4a258c",
   "metadata": {},
   "outputs": [],
   "source": [
    "X = raw_dataset[config['data_source']['features']].copy()\n",
    "y = raw_dataset[config['data_source']['target_name']].copy()"
   ]
  },
  {
   "cell_type": "code",
   "execution_count": 16,
   "id": "e409504e-f6e3-4fa2-8ee6-5d8f645248a1",
   "metadata": {},
   "outputs": [
    {
     "name": "stdout",
     "output_type": "stream",
     "text": [
      "<class 'pandas.core.frame.DataFrame'>\n",
      "RangeIndex: 151112 entries, 0 to 151111\n",
      "Data columns (total 5 columns):\n",
      " #   Column          Non-Null Count   Dtype \n",
      "---  ------          --------------   ----- \n",
      " 0   browser         151112 non-null  object\n",
      " 1   source          151112 non-null  object\n",
      " 2   age             151112 non-null  int64 \n",
      " 3   sex             151112 non-null  object\n",
      " 4   purchase_value  151112 non-null  int64 \n",
      "dtypes: int64(2), object(3)\n",
      "memory usage: 5.8+ MB\n"
     ]
    }
   ],
   "source": [
    "X.info()"
   ]
  },
  {
   "cell_type": "code",
   "execution_count": 17,
   "id": "c65c8e46-62fc-4b7a-9af5-21f72d7d38df",
   "metadata": {},
   "outputs": [
    {
     "data": {
      "text/plain": [
       "0    136961\n",
       "1     14151\n",
       "Name: class, dtype: int64"
      ]
     },
     "execution_count": 17,
     "metadata": {},
     "output_type": "execute_result"
    }
   ],
   "source": [
    "y.value_counts()"
   ]
  },
  {
   "cell_type": "code",
   "execution_count": 18,
   "id": "01aa94d2-c5d8-4886-b9b6-f7e13d0de06c",
   "metadata": {},
   "outputs": [],
   "source": [
    "X_train, X_test, y_train, y_test = train_test_split(X, y, test_size = config['data_source']['test_size'], \n",
    "                                                    random_state = config['data_source']['random_state'], stratify = y)"
   ]
  },
  {
   "cell_type": "code",
   "execution_count": 19,
   "id": "43b4394b-ef75-44a9-aa1d-b29f8193b4c5",
   "metadata": {},
   "outputs": [
    {
     "data": {
      "text/html": [
       "<div>\n",
       "<style scoped>\n",
       "    .dataframe tbody tr th:only-of-type {\n",
       "        vertical-align: middle;\n",
       "    }\n",
       "\n",
       "    .dataframe tbody tr th {\n",
       "        vertical-align: top;\n",
       "    }\n",
       "\n",
       "    .dataframe thead th {\n",
       "        text-align: right;\n",
       "    }\n",
       "</style>\n",
       "<table border=\"1\" class=\"dataframe\">\n",
       "  <thead>\n",
       "    <tr style=\"text-align: right;\">\n",
       "      <th></th>\n",
       "      <th>browser</th>\n",
       "      <th>source</th>\n",
       "      <th>age</th>\n",
       "      <th>sex</th>\n",
       "      <th>purchase_value</th>\n",
       "    </tr>\n",
       "  </thead>\n",
       "  <tbody>\n",
       "    <tr>\n",
       "      <th>61049</th>\n",
       "      <td>Chrome</td>\n",
       "      <td>Ads</td>\n",
       "      <td>31</td>\n",
       "      <td>F</td>\n",
       "      <td>42</td>\n",
       "    </tr>\n",
       "    <tr>\n",
       "      <th>141787</th>\n",
       "      <td>Chrome</td>\n",
       "      <td>Ads</td>\n",
       "      <td>32</td>\n",
       "      <td>M</td>\n",
       "      <td>38</td>\n",
       "    </tr>\n",
       "    <tr>\n",
       "      <th>84407</th>\n",
       "      <td>Safari</td>\n",
       "      <td>SEO</td>\n",
       "      <td>36</td>\n",
       "      <td>M</td>\n",
       "      <td>12</td>\n",
       "    </tr>\n",
       "    <tr>\n",
       "      <th>115800</th>\n",
       "      <td>IE</td>\n",
       "      <td>SEO</td>\n",
       "      <td>19</td>\n",
       "      <td>M</td>\n",
       "      <td>12</td>\n",
       "    </tr>\n",
       "    <tr>\n",
       "      <th>61857</th>\n",
       "      <td>Chrome</td>\n",
       "      <td>SEO</td>\n",
       "      <td>28</td>\n",
       "      <td>F</td>\n",
       "      <td>41</td>\n",
       "    </tr>\n",
       "    <tr>\n",
       "      <th>...</th>\n",
       "      <td>...</td>\n",
       "      <td>...</td>\n",
       "      <td>...</td>\n",
       "      <td>...</td>\n",
       "      <td>...</td>\n",
       "    </tr>\n",
       "    <tr>\n",
       "      <th>79502</th>\n",
       "      <td>Opera</td>\n",
       "      <td>SEO</td>\n",
       "      <td>31</td>\n",
       "      <td>M</td>\n",
       "      <td>52</td>\n",
       "    </tr>\n",
       "    <tr>\n",
       "      <th>137723</th>\n",
       "      <td>Chrome</td>\n",
       "      <td>Ads</td>\n",
       "      <td>30</td>\n",
       "      <td>M</td>\n",
       "      <td>46</td>\n",
       "    </tr>\n",
       "    <tr>\n",
       "      <th>13126</th>\n",
       "      <td>Chrome</td>\n",
       "      <td>Ads</td>\n",
       "      <td>49</td>\n",
       "      <td>M</td>\n",
       "      <td>21</td>\n",
       "    </tr>\n",
       "    <tr>\n",
       "      <th>22089</th>\n",
       "      <td>Chrome</td>\n",
       "      <td>Direct</td>\n",
       "      <td>19</td>\n",
       "      <td>M</td>\n",
       "      <td>26</td>\n",
       "    </tr>\n",
       "    <tr>\n",
       "      <th>120195</th>\n",
       "      <td>FireFox</td>\n",
       "      <td>Ads</td>\n",
       "      <td>37</td>\n",
       "      <td>F</td>\n",
       "      <td>47</td>\n",
       "    </tr>\n",
       "  </tbody>\n",
       "</table>\n",
       "<p>105778 rows × 5 columns</p>\n",
       "</div>"
      ],
      "text/plain": [
       "        browser  source  age sex  purchase_value\n",
       "61049    Chrome     Ads   31   F              42\n",
       "141787   Chrome     Ads   32   M              38\n",
       "84407    Safari     SEO   36   M              12\n",
       "115800       IE     SEO   19   M              12\n",
       "61857    Chrome     SEO   28   F              41\n",
       "...         ...     ...  ...  ..             ...\n",
       "79502     Opera     SEO   31   M              52\n",
       "137723   Chrome     Ads   30   M              46\n",
       "13126    Chrome     Ads   49   M              21\n",
       "22089    Chrome  Direct   19   M              26\n",
       "120195  FireFox     Ads   37   F              47\n",
       "\n",
       "[105778 rows x 5 columns]"
      ]
     },
     "execution_count": 19,
     "metadata": {},
     "output_type": "execute_result"
    }
   ],
   "source": [
    "X_train"
   ]
  },
  {
   "cell_type": "markdown",
   "id": "cce987b0-f705-4f2b-a31a-ceaf5c1b05b6",
   "metadata": {},
   "source": [
    "## Dump Data"
   ]
  },
  {
   "cell_type": "code",
   "execution_count": 20,
   "id": "366099af-693d-498e-ba37-a53622a4f8aa",
   "metadata": {},
   "outputs": [],
   "source": [
    "X_train_path = '../' + config['train_test_data']['directory'] + config['train_test_data']['X_train']\n",
    "y_train_path = '../' + config['train_test_data']['directory'] + config['train_test_data']['y_train']\n",
    "\n",
    "X_test_path = '../' + config['train_test_data']['directory'] + config['train_test_data']['X_test']\n",
    "y_test_path = '../' + config['train_test_data']['directory'] + config['train_test_data']['y_test']\n",
    "\n",
    "util.pickle_dump(X_train, X_train_path)\n",
    "util.pickle_dump(y_train, y_train_path)\n",
    "util.pickle_dump(X_test, X_test_path)\n",
    "util.pickle_dump(y_test, y_test_path)"
   ]
  }
 ],
 "metadata": {
  "kernelspec": {
   "display_name": "Python 3 (ipykernel)",
   "language": "python",
   "name": "python3"
  },
  "language_info": {
   "codemirror_mode": {
    "name": "ipython",
    "version": 3
   },
   "file_extension": ".py",
   "mimetype": "text/x-python",
   "name": "python",
   "nbconvert_exporter": "python",
   "pygments_lexer": "ipython3",
   "version": "3.9.13"
  }
 },
 "nbformat": 4,
 "nbformat_minor": 5
}
